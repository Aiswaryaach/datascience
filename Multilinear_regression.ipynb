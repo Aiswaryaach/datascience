{
  "nbformat": 4,
  "nbformat_minor": 0,
  "metadata": {
    "colab": {
      "provenance": [],
      "collapsed_sections": [],
      "authorship_tag": "ABX9TyOscuXew5en4W/Ev50VvB/U",
      "include_colab_link": true
    },
    "kernelspec": {
      "name": "python3",
      "display_name": "Python 3"
    },
    "language_info": {
      "name": "python"
    }
  },
  "cells": [
    {
      "cell_type": "markdown",
      "metadata": {
        "id": "view-in-github",
        "colab_type": "text"
      },
      "source": [
        "<a href=\"https://colab.research.google.com/github/Aiswaryaach/datascience/blob/main/Multilinear_regression.ipynb\" target=\"_parent\"><img src=\"https://colab.research.google.com/assets/colab-badge.svg\" alt=\"Open In Colab\"/></a>"
      ]
    },
    {
      "cell_type": "code",
      "execution_count": 4,
      "metadata": {
        "colab": {
          "base_uri": "https://localhost:8080/"
        },
        "id": "18SouY1zxvs3",
        "outputId": "a1f398ff-a5ab-45f1-c88b-4a4925efe12c"
      },
      "outputs": [
        {
          "output_type": "stream",
          "name": "stdout",
          "text": [
            "intercept: 1.7763568394002505e-14\n",
            "coefficient:\n",
            "prediction:[38.9 34.3 41.7 33.5 38.   5.2 14.3  3.5 41.7 43.9 14.7 32.3  5.7 21.1\n",
            " 11.8  4.9 35.6  7.8 36.8 17.4 24.   5.7 47.7 33.4 21.  49.  33.5 20.3\n",
            " 43.9 34.6 44.5  9.3  8.4 18.1 11.6 28.5  1.5  7.1  3.4 18.4 23.6 15.4\n",
            " 20.9  5.4 19.6  9.9 43.7 27.1 16.   3.7 22.3 39.7 35.  42.8 29.5 39.3\n",
            "  4.1 39.  23.3 35.8]\n"
          ]
        }
      ],
      "source": [
        "\n",
        "import pandas as pd\n",
        "dst=pd.read_csv(\"./advertising.csv\")\n",
        "dst.head()\n",
        "X=dst.iloc[:,:-1]\n",
        "y=dst.iloc[:,1]\n",
        "X.head()\n",
        "from sklearn.model_selection import train_test_split\n",
        "X_train,X_test,y_train,y_test=train_test_split(X,y,test_size=0.3,random_state=100)\n",
        "from sklearn.linear_model import LinearRegression\n",
        "mr=LinearRegression()\n",
        "mr.fit(X_train,y_train)\n",
        "print('intercept:',mr.intercept_)\n",
        "print(\"coefficient:\")\n",
        "list(zip(X,mr.coef_))\n",
        "Y_pred=mr.predict(X_test)\n",
        "print(\"prediction:{}\".format(Y_pred))"
      ]
    }
  ]
}